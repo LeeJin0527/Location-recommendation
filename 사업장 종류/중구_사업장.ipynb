{
 "cells": [
  {
   "cell_type": "code",
   "execution_count": 45,
   "metadata": {},
   "outputs": [
    {
     "data": {
      "text/plain": [
       "<AxesSubplot:xlabel='사업체'>"
      ]
     },
     "execution_count": 45,
     "metadata": {},
     "output_type": "execute_result"
    }
   ],
   "source": [
    "# -*- coding: utf-8 -*-\n",
    "\"\"\"\n",
    "Created on Sun Nov 22 01:52:30 2020\n",
    "\n",
    "@author: Administrator\n",
    "\"\"\"\n",
    "import platform\n",
    "\n",
    "import os\n",
    "import pandas as pd\n",
    "import numpy as np\n",
    "from pandas import Series, DataFrame\n",
    "from numpy import nan as NA\n",
    "import matplotlib.pyplot as plt\n",
    "%matplotlib qt\n",
    "if platform.system() =='Windows':\n",
    "    plt.rc('font',family='Malgun Gothic')\n",
    "plt.rc('axes',unicode_minus=False)\n",
    "df1 = pd.read_csv('C:/Users/Administrator/Desktop/졸작/중구가공.csv')\n",
    "\n",
    "\n",
    "#print(see)\n",
    "df1.index = ['삼덕동','성내1동','성내2동','성내3동','대신동','남산1동','남산2동','남산3동','남산4동','대봉1동','대봉2동','동인동']\n",
    "\n",
    "df1.columns.names = ['동']\n",
    "df1.index.names = ['사업체']\n",
    "\n",
    "#print(df1)\n",
    "\n",
    "fig, ax = plt.subplots(1,1)\n",
    "\n",
    "df1.plot(kind='bar')\n",
    "\n",
    "\n"
   ]
  }
 ],
 "metadata": {
  "kernelspec": {
   "display_name": "Python 3",
   "language": "python",
   "name": "python3"
  },
  "language_info": {
   "codemirror_mode": {
    "name": "ipython",
    "version": 3
   },
   "file_extension": ".py",
   "mimetype": "text/x-python",
   "name": "python",
   "nbconvert_exporter": "python",
   "pygments_lexer": "ipython3",
   "version": "3.8.3"
  }
 },
 "nbformat": 4,
 "nbformat_minor": 4
}
